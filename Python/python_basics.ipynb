{
  "nbformat": 4,
  "nbformat_minor": 0,
  "metadata": {
    "colab": {
      "provenance": [],
      "toc_visible": true,
      "authorship_tag": "ABX9TyNpTnimxaG2mqJEOJ99nLtm",
      "include_colab_link": true
    },
    "kernelspec": {
      "name": "python3",
      "display_name": "Python 3"
    },
    "language_info": {
      "name": "python"
    }
  },
  "cells": [
    {
      "cell_type": "markdown",
      "metadata": {
        "id": "view-in-github",
        "colab_type": "text"
      },
      "source": [
        "<a href=\"https://colab.research.google.com/github/theinshort/deep_learning/blob/main/Python/python_basics.ipynb\" target=\"_parent\"><img src=\"https://colab.research.google.com/assets/colab-badge.svg\" alt=\"Open In Colab\"/></a>"
      ]
    },
    {
      "cell_type": "markdown",
      "source": [
        "# Python For Deep Learning\n",
        "In this tutorials we will be exploring some advance pythons concepts and techniques for deep learning implementations.\n",
        "## Table of Contents\n",
        "\n",
        "### Section 1: Advanced Python Techniques\n",
        "1. List Comprehensions\n",
        "2. Lambda Functions\n",
        "3. Map, Filter, and Reduce Functions\n",
        "4. Decorators\n",
        "5. Context Managers\n",
        "6. Generators\n",
        "7. Multithreading and Multiprocessing\n",
        "8. Working with Files (Reading and Writing)\n",
        "9. Regular Expressions\n",
        "10. Error Handling and Exceptions\n",
        "\n",
        "### Section 2: Classes\n",
        "11. Classes and Objects\n",
        "12. Inheritance\n",
        "13. Property Decorators\n",
        "14. Python's Data Model & Magic Methods"
      ],
      "metadata": {
        "id": "g6ZufRp57Iw8"
      }
    },
    {
      "cell_type": "markdown",
      "source": [
        "## 1. List Comprehensions\n",
        "\n",
        "List comprehensions provide a concise way to create lists. It consists of an expression followed by a `for` statement inside square brackets. Here's an example:"
      ],
      "metadata": {
        "id": "P8nCT8Sh_LUQ"
      }
    },
    {
      "cell_type": "code",
      "source": [
        "square = [x * x for x in range(12)]\n",
        "square"
      ],
      "metadata": {
        "colab": {
          "base_uri": "https://localhost:8080/"
        },
        "id": "m2MayiIg-_GF",
        "outputId": "d643a6e3-1646-4a26-83b5-2240d8cc467a"
      },
      "execution_count": null,
      "outputs": [
        {
          "output_type": "execute_result",
          "data": {
            "text/plain": [
              "[0, 1, 4, 9, 16, 25, 36, 49, 64, 81, 100, 121]"
            ]
          },
          "metadata": {},
          "execution_count": 2
        }
      ]
    },
    {
      "cell_type": "markdown",
      "source": [
        "This creates a list of squares of numbers from 0 to 9. You can also add an optional `if` clause to filter the items:\n"
      ],
      "metadata": {
        "id": "2hWXp88-_mUd"
      }
    },
    {
      "cell_type": "code",
      "source": [
        "even_sq = [x * x for x in range(12) if x % 2 == 0]\n",
        "even_sq"
      ],
      "metadata": {
        "colab": {
          "base_uri": "https://localhost:8080/"
        },
        "id": "Z79k85Bm_u-l",
        "outputId": "103a7c6e-a5ee-4618-de81-4d4128776638"
      },
      "execution_count": null,
      "outputs": [
        {
          "output_type": "execute_result",
          "data": {
            "text/plain": [
              "[0, 4, 16, 36, 64, 100]"
            ]
          },
          "metadata": {},
          "execution_count": 3
        }
      ]
    },
    {
      "cell_type": "markdown",
      "source": [
        "This creates a list of squares of even numbers from 0 to 9.\n"
      ],
      "metadata": {
        "id": "lB0P4J76AFoW"
      }
    },
    {
      "cell_type": "markdown",
      "source": [
        "Let's use list comprehensions to create a list of cubes of even and odd numbers from 1 to 30.\n"
      ],
      "metadata": {
        "id": "4IJvNK9GAVuV"
      }
    },
    {
      "cell_type": "code",
      "source": [
        "# Cube for even numbers\n",
        "\n",
        "# range(x, y) function take values from starting values as x and one less (y-1) from final valueThe range() function returns a sequence of numbers,\n",
        "# starting from 0 by default, and increments by 1 (by default), and stops before a specified number.\n",
        "# Syntax for range function => range(start, stop, step)\n",
        "even_cube = [x*x*x for x in range(1, 31) if x % 2 == 0]\n",
        "print(even_cube)\n",
        "odd_cube = [x*x*x for x in range(1, 31) if x % 2 != 0]\n",
        "print(odd_cube)\n"
      ],
      "metadata": {
        "colab": {
          "base_uri": "https://localhost:8080/"
        },
        "id": "ACOPm_LvAQrV",
        "outputId": "ba739880-0d10-4ea6-a0ef-34febfe15493"
      },
      "execution_count": null,
      "outputs": [
        {
          "output_type": "stream",
          "name": "stdout",
          "text": [
            "[8, 64, 216, 512, 1000, 1728, 2744, 4096, 5832, 8000, 10648, 13824, 17576, 21952, 27000]\n",
            "[1, 27, 125, 343, 729, 1331, 2197, 3375, 4913, 6859, 9261, 12167, 15625, 19683, 24389]\n"
          ]
        }
      ]
    },
    {
      "cell_type": "markdown",
      "source": [
        "## 2. Lambda Functions\n",
        "Lambda functions are small, anonymous functions that can be created with the `lambda` keyword. They are useful when you need a simple function for a short period of time and don't want to define a full function using `def`. Lambda functions can take any number of arguments but can only have one expression."
      ],
      "metadata": {
        "id": "U4w23D_XCjQ2"
      }
    },
    {
      "cell_type": "code",
      "source": [
        "multiply = lambda x, y: x*y\n",
        "print(multiply(10,3))"
      ],
      "metadata": {
        "colab": {
          "base_uri": "https://localhost:8080/"
        },
        "id": "uei-CrN-C0ZG",
        "outputId": "4e9a1bb2-1d3c-462b-c889-e1c4b2853dec"
      },
      "execution_count": null,
      "outputs": [
        {
          "output_type": "stream",
          "name": "stdout",
          "text": [
            "30\n"
          ]
        }
      ]
    },
    {
      "cell_type": "code",
      "source": [
        "is_even_odd = lambda x: \"Even\" if x %2 == 0 else \"Odd\"\n",
        "\n",
        "print(is_even_odd(23))\n",
        "print(is_even_odd(24))"
      ],
      "metadata": {
        "colab": {
          "base_uri": "https://localhost:8080/"
        },
        "id": "SSS1QCw4DcBV",
        "outputId": "6c3e3987-b8bc-47a8-eb2a-0044af51dc92"
      },
      "execution_count": null,
      "outputs": [
        {
          "output_type": "stream",
          "name": "stdout",
          "text": [
            "Odd\n",
            "Even\n"
          ]
        }
      ]
    },
    {
      "cell_type": "markdown",
      "source": [
        "Let's create some advance examples for lambda funtions in pythons that demonstrate their capabilities."
      ],
      "metadata": {
        "id": "Lvwuc48zFLXA"
      }
    },
    {
      "cell_type": "markdown",
      "source": [
        "### Data Cleaning and Transformation"
      ],
      "metadata": {
        "id": "u-Ysp2QHFdNk"
      }
    },
    {
      "cell_type": "code",
      "source": [
        "clean_data = lambda text: text.lower().strip().replace(',', '')\n",
        "\n",
        "data = \"HelLo worLd!, how,s are YOU doing?\"\n",
        "cleaned_data = clean_data(data)\n",
        "print(cleaned_data)"
      ],
      "metadata": {
        "colab": {
          "base_uri": "https://localhost:8080/"
        },
        "id": "hW5ebpsDFccm",
        "outputId": "340058c9-890e-49c7-8d27-99861f14df4b"
      },
      "execution_count": null,
      "outputs": [
        {
          "output_type": "stream",
          "name": "stdout",
          "text": [
            "hello world! hows are you doing?\n"
          ]
        }
      ]
    },
    {
      "cell_type": "markdown",
      "source": [
        "This lambda function cleans text data by converting it to lowercase, removing leading/trailing whitespace, and replacing commas. It demonstrates how lambdas can be used in data pipelines for preprocessing."
      ],
      "metadata": {
        "id": "-luxgS9FGiG1"
      }
    },
    {
      "cell_type": "markdown",
      "source": [
        "### Nested Lambdas for complex Logic"
      ],
      "metadata": {
        "id": "rd3E-v5AH2s-"
      }
    },
    {
      "cell_type": "code",
      "source": [
        "calculate_shipping_cost = lambda distance, weight: \\\n",
        "  lambda discount: ((distance * 0.5) + (weight * 2) * (1 - discount/100))\n",
        "\n",
        "discount = 20\n",
        "distance, weight = 150, 5\n",
        "\n",
        "shipping_cost = calculate_shipping_cost(distance, weight)(discount)\n",
        "print(shipping_cost)"
      ],
      "metadata": {
        "colab": {
          "base_uri": "https://localhost:8080/"
        },
        "id": "c3WAAK0KFaNM",
        "outputId": "d119bf65-5734-48aa-a4a8-a85b5767ea11"
      },
      "execution_count": null,
      "outputs": [
        {
          "output_type": "stream",
          "name": "stdout",
          "text": [
            "83.0\n"
          ]
        }
      ]
    },
    {
      "cell_type": "markdown",
      "source": [
        "This example involves nested lambdas. The outer lambda defines the shipping cost calculation based on distance and weight. The inner lambda applies a discount, demonstrating how lambdas can encapsulate sub-functionality.\n"
      ],
      "metadata": {
        "id": "SqzbDKq6LfFJ"
      }
    },
    {
      "cell_type": "markdown",
      "source": [
        "### Custom Sorting With Lambdas"
      ],
      "metadata": {
        "id": "2RfdvV_rLfEN"
      }
    },
    {
      "cell_type": "code",
      "source": [
        "data = [\n",
        "    {\"name\": \"Alice\", \"age\": 23},\n",
        "    {\"name\": \"Bob\", \"age\": 31},\n",
        "    {\"name\": \"Charlie\", \"age\": 29}\n",
        "]\n",
        "\n",
        "sort_by_age = lambda data: sorted(data, key= lambda data: data[\"age\"])\n",
        "sort_by_name = lambda data: sorted(data, key= lambda data: data[\"name\"])\n",
        "\n",
        "print(sort_by_age(data))\n",
        "print(sort_by_name(data))"
      ],
      "metadata": {
        "colab": {
          "base_uri": "https://localhost:8080/"
        },
        "id": "CHtXsXE0K7vW",
        "outputId": "1169802a-b66f-4ccf-8c86-9e6481e1ae0e"
      },
      "execution_count": null,
      "outputs": [
        {
          "output_type": "stream",
          "name": "stdout",
          "text": [
            "[{'name': 'Alice', 'age': 23}, {'name': 'Charlie', 'age': 29}, {'name': 'Bob', 'age': 31}]\n",
            "[{'name': 'Alice', 'age': 23}, {'name': 'Bob', 'age': 31}, {'name': 'Charlie', 'age': 29}]\n"
          ]
        }
      ]
    },
    {
      "cell_type": "markdown",
      "source": [
        "This code shows how lambdas can be used for custom sorting. The lambda functions define the sorting criteria based on specific dictionary keys, allowing for flexible sorting logic.\n"
      ],
      "metadata": {
        "id": "BsuYgkdoPVXB"
      }
    },
    {
      "cell_type": "markdown",
      "source": [
        "### Dynamic function Generation"
      ],
      "metadata": {
        "id": "4i8uQAZ_P1Wm"
      }
    },
    {
      "cell_type": "code",
      "source": [
        "\n",
        "math_operation = lambda operator: lambda x, y: operator(x, y)\n",
        "\n",
        "add = math_operation(lambda a, b: a + b)\n",
        "multiply = math_operation(lambda a, b: a * b)\n",
        "\n",
        "print(add(5, 3))\n",
        "print(multiply(4, 2))"
      ],
      "metadata": {
        "colab": {
          "base_uri": "https://localhost:8080/"
        },
        "id": "siUYQQoSSwGW",
        "outputId": "d88d5cbb-853b-40fc-d2e9-cda88b561df9"
      },
      "execution_count": null,
      "outputs": [
        {
          "output_type": "stream",
          "name": "stdout",
          "text": [
            "8\n",
            "8\n"
          ]
        }
      ]
    },
    {
      "cell_type": "markdown",
      "source": [
        "This example demonstrates how lambdas can be used to dynamically generate functions based on input. The `math_operation` lambda takes an operator and returns a new lambda that performs that operation on two numbers."
      ],
      "metadata": {
        "id": "8bJL_ngNTUsO"
      }
    },
    {
      "cell_type": "markdown",
      "source": [
        "### Integration With External APIs"
      ],
      "metadata": {
        "id": "xD3lRc1_TjxG"
      }
    },
    {
      "cell_type": "code",
      "source": [
        "import requests as req\n",
        "\n",
        "get_weather_data = lambda city: req.get(f\"https://api.openweathermap.org/data/2.5/weather?q={city}&appid=YOUR_API_KEY\").json()\n",
        "# Add your own API Key\n",
        "\n",
        "weather_data = get_weather_data(\"London\")\n",
        "\n",
        "print(weather_data[\"main\"][\"temp\"])"
      ],
      "metadata": {
        "id": "LeHoJ3x3TpQp"
      },
      "execution_count": null,
      "outputs": []
    },
    {
      "cell_type": "markdown",
      "source": [
        "This example showcases how lambdas can be used to interact with external APIs. The get_weather_data lambda retrieves weather data for a given city using an API call.\n",
        "\n",
        "Remember that while lambdas offer conciseness, complex logic within them can become harder to read and maintain. Use them judiciously for smaller, well-defined tasks within your code."
      ],
      "metadata": {
        "id": "woU8cDseU7Nl"
      }
    },
    {
      "cell_type": "markdown",
      "source": [
        "## Map, Filter, and Reduce Functions\n",
        "`map`, `filter`, and `reduce` are higher-order functions that take a function and a sequence (e.g., list, tuple) as input and perform specific operations on them.\n"
      ],
      "metadata": {
        "id": "bZOyaBbGEi5N"
      }
    },
    {
      "cell_type": "markdown",
      "source": [
        "### Map\n",
        "\n",
        "The `map()` function applies a given function to each item of a sequence and returns an iterator."
      ],
      "metadata": {
        "id": "X4nvpqbcEzIF"
      }
    },
    {
      "cell_type": "code",
      "source": [
        "numbers = [x for x in range(20)]\n",
        "squares = map(lambda x: x*x, numbers) # This will return a Map Object\n",
        "sq_list = list(squares) # Converting Map Object To List\n",
        "print(sq_list)"
      ],
      "metadata": {
        "colab": {
          "base_uri": "https://localhost:8080/"
        },
        "id": "OKa4YawLE4ln",
        "outputId": "ebf0fba7-a17c-4c06-b079-335c8c92aac1"
      },
      "execution_count": null,
      "outputs": [
        {
          "output_type": "stream",
          "name": "stdout",
          "text": [
            "[0, 1, 4, 9, 16, 25, 36, 49, 64, 81, 100, 121, 144, 169, 196, 225, 256, 289, 324, 361]\n"
          ]
        }
      ]
    },
    {
      "cell_type": "markdown",
      "source": [
        "#### Multiple Iterables and Custom Logic"
      ],
      "metadata": {
        "id": "BAscl3jMqmOo"
      }
    },
    {
      "cell_type": "code",
      "source": [
        "names = [\"Alice\", \"Bob\", \"Charlie\"]\n",
        "ages = [25, 29, 33]\n",
        "\n",
        "# Creating a complex object using map function\n",
        "users = map(\n",
        "    lambda name, age: {\"name\": name, \"age\": age, \"message\": f\"Hello! My name is {name} and i am {age} years old\"},\n",
        "    names,\n",
        "    ages\n",
        ")\n",
        "\n",
        "for user in users:\n",
        "  print(user)"
      ],
      "metadata": {
        "colab": {
          "base_uri": "https://localhost:8080/"
        },
        "id": "yWycDWSsqtNJ",
        "outputId": "67817248-6d5c-412f-99a9-2957b984d035"
      },
      "execution_count": null,
      "outputs": [
        {
          "output_type": "stream",
          "name": "stdout",
          "text": [
            "{'name': 'Alice', 'age': 25, 'message': 'Hello! My name is Alice and i am 25 years old'}\n",
            "{'name': 'Bob', 'age': 29, 'message': 'Hello! My name is Bob and i am 29 years old'}\n",
            "{'name': 'Charlie', 'age': 33, 'message': 'Hello! My name is Charlie and i am 33 years old'}\n"
          ]
        }
      ]
    },
    {
      "cell_type": "markdown",
      "source": [
        "This example demonstrates using map with multiple iterbles(names,ages) and a custom lambda function to create a list of complex object Users with various attributes."
      ],
      "metadata": {
        "id": "lqFRN4ajtDof"
      }
    },
    {
      "cell_type": "markdown",
      "source": [
        "#### Conditional Operation within Lambdas"
      ],
      "metadata": {
        "id": "vr_moJjJtbHg"
      }
    },
    {
      "cell_type": "code",
      "source": [
        "data = [2, 7, -4, 5, 6, -9]\n",
        "\n",
        "# Applying different operations based on signs using a lambdas\n",
        "transformed_data = map(\n",
        "    lambda x: x * 2 if x > 0 else x ** 3, data\n",
        ")\n",
        "\n",
        "transformed_data_list = list(transformed_data)\n",
        "print(transformed_data_list)"
      ],
      "metadata": {
        "colab": {
          "base_uri": "https://localhost:8080/"
        },
        "id": "8KcNg9jUEq02",
        "outputId": "c1a32083-23f7-40ca-9ecb-201daad58820"
      },
      "execution_count": null,
      "outputs": [
        {
          "output_type": "stream",
          "name": "stdout",
          "text": [
            "[4, 14, -64, 10, 12, -729]\n"
          ]
        }
      ]
    },
    {
      "cell_type": "markdown",
      "source": [
        "This example shows how how lambda within map can perform conditional operation on each element based on specific criteria."
      ],
      "metadata": {
        "id": "gVYMQUeMvTd_"
      }
    },
    {
      "cell_type": "markdown",
      "source": [
        "#### Nested Structure and Data Aggregation"
      ],
      "metadata": {
        "id": "mpTm2D-yvkJO"
      }
    },
    {
      "cell_type": "code",
      "source": [
        "products = [\n",
        "    {\"name\": \"Shirt\", \"price\": 29, \"quantity\": 15},\n",
        "    {\"name\": \"Pants\", \"price\": 25, \"quantity\": 25},\n",
        "    {\"name\": \"Blazzers\", \"price\": 74, \"quantity\": 20},\n",
        "    {\"name\": \"Hats\", \"price\": 15, \"quantity\": 10}\n",
        "]\n",
        "\n",
        "# Calculate total price for each products using nested lambdas\n",
        "total_price = map(\n",
        "    lambda product: product[\"price\"] * product[\"quantity\"],\n",
        "    products\n",
        ")\n",
        "\n",
        "# Calculating total Sales from all products using sum with map\n",
        "total_sales = sum(total_price)\n",
        "print(total_sales)"
      ],
      "metadata": {
        "colab": {
          "base_uri": "https://localhost:8080/"
        },
        "id": "ZMMQIN9hvrNB",
        "outputId": "193c8915-00f0-4388-d5ca-8584dc73d114"
      },
      "execution_count": null,
      "outputs": [
        {
          "output_type": "stream",
          "name": "stdout",
          "text": [
            "2690\n"
          ]
        }
      ]
    },
    {
      "cell_type": "markdown",
      "source": [
        "This example showcases nested lambdas and combines map with sum to calculate total revenue by first getting the total price for each product (using nested lambdas) and then summing them up."
      ],
      "metadata": {
        "id": "W8rQgI59zcUf"
      }
    },
    {
      "cell_type": "markdown",
      "source": [
        "#### Intergration With External Libraries"
      ],
      "metadata": {
        "id": "GGCvE9ikzenP"
      }
    },
    {
      "cell_type": "code",
      "source": [
        "import math\n",
        "\n",
        "numbers = [2, 4, 9, 11, 23, 36]\n",
        "\n",
        "# Square roots of numbers using map and math.sqrt() function\n",
        "squared_root = map(math.sqrt, numbers)\n",
        "print(list(squared_root))"
      ],
      "metadata": {
        "colab": {
          "base_uri": "https://localhost:8080/"
        },
        "id": "69vfujovz7FX",
        "outputId": "3eeda250-123a-42ca-fa3d-e6d9c8b7cd2e"
      },
      "execution_count": null,
      "outputs": [
        {
          "output_type": "stream",
          "name": "stdout",
          "text": [
            "[1.4142135623730951, 2.0, 3.0, 3.3166247903554, 4.795831523312719, 6.0]\n"
          ]
        }
      ]
    },
    {
      "cell_type": "markdown",
      "source": [
        "This example demonstrates using map with external libraries (like math here) to perform more complex operations on each element."
      ],
      "metadata": {
        "id": "Y3PyQV6z0ro_"
      }
    },
    {
      "cell_type": "markdown",
      "source": [
        "\n",
        "#### Data Cleaning and Preprocessing\n"
      ],
      "metadata": {
        "id": "s7kajyaz0wb2"
      }
    },
    {
      "cell_type": "code",
      "source": [
        "text_data = [\"  apple:, banaAna\", \" ORANGE: pears !  \", \"? watermelon: dates   \"]\n",
        "\n",
        "cleaned_data = map(\n",
        "    lambda text: text.lower().strip().replace(\"!\", \"\").replace(\"?\",\"\").replace(\",\", \"\"),\n",
        "    text_data\n",
        ")\n",
        "\n",
        "print(list(cleaned_data))"
      ],
      "metadata": {
        "colab": {
          "base_uri": "https://localhost:8080/"
        },
        "id": "1SUoeHNR1MlP",
        "outputId": "db257891-1c01-45e7-9b42-2814d7e71705"
      },
      "execution_count": null,
      "outputs": [
        {
          "output_type": "stream",
          "name": "stdout",
          "text": [
            "['apple: banaana', 'orange: pears ', ' watermelon: dates']\n"
          ]
        }
      ]
    },
    {
      "cell_type": "markdown",
      "source": [
        "This example demonstrates how map and lambdas can be used for data cleaning and preprocessing tasks, such as removing punctuation, converting to lowercase, and splitting into words.\n",
        "\n",
        "**Remember** that while map offers concise iteration and transformation, complex logic within it can affect readability. Use it for well-defined, element-wise operations and consider alternative approaches for intricate processing."
      ],
      "metadata": {
        "id": "rwIQ4-Wb3zfY"
      }
    },
    {
      "cell_type": "markdown",
      "source": [
        "### Filters\n",
        "The `filter()` function filters the items of a sequence based on a function that returns a boolean value."
      ],
      "metadata": {
        "id": "jl5mk3A4DT8P"
      }
    },
    {
      "cell_type": "code",
      "source": [
        "numbers = [x for x in range(21)]\n",
        "\n",
        "even_numbers = filter(lambda x: x % 2 == 0, numbers)\n",
        "# this will return a Filter object which needs to be converted to a list\n",
        "print(list(even_numbers))\n",
        "\n",
        "odd_numbers = filter(lambda x: x % 2 != 0, numbers)\n",
        "\n",
        "print(list(odd_numbers))"
      ],
      "metadata": {
        "colab": {
          "base_uri": "https://localhost:8080/"
        },
        "id": "700wMl8m4Ev3",
        "outputId": "f2d98941-86b2-4354-a5a7-c2f740157d3c"
      },
      "execution_count": null,
      "outputs": [
        {
          "output_type": "stream",
          "name": "stdout",
          "text": [
            "[0, 2, 4, 6, 8, 10, 12, 14, 16, 18, 20]\n",
            "[1, 3, 5, 7, 9, 11, 13, 15, 17, 19]\n"
          ]
        }
      ]
    },
    {
      "cell_type": "markdown",
      "source": [
        "#### Nested Filtering with Multiple Conditions:"
      ],
      "metadata": {
        "id": "a0Jc5AnrIdPx"
      }
    },
    {
      "cell_type": "code",
      "source": [
        "data = [\n",
        "    {\"name\": \"Alice\", \"age\": 30, \"city\": \"New York\"},\n",
        "    {\"name\": \"Bob\", \"age\": 25, \"city\": \"London\"},\n",
        "    {\"name\": \"Charlie\", \"age\": 35, \"city\": \"Paris\"},\n",
        "    {\"name\": \"David\", \"age\": 22, \"city\": \"Berlin\"},\n",
        "]\n",
        "\n",
        "# Filter adults living in Europe using a custom function and multiple condition\n",
        "filtered_data = filter(\n",
        "    lambda user: user[\"age\"] >= 18 and user[\"city\"] in [\"Paris\", \"London\"],\n",
        "    data\n",
        ")\n",
        "\n",
        "usernames = map(\n",
        "    lambda user: user[\"name\"], filtered_data\n",
        ")\n",
        "\n",
        "print(list(usernames))\n"
      ],
      "metadata": {
        "colab": {
          "base_uri": "https://localhost:8080/"
        },
        "id": "6LlChw9JIcEo",
        "outputId": "414bf620-bc52-4009-e2fe-24e0a60ff799"
      },
      "execution_count": null,
      "outputs": [
        {
          "output_type": "stream",
          "name": "stdout",
          "text": [
            "['Bob', 'Charlie']\n"
          ]
        }
      ]
    },
    {
      "cell_type": "markdown",
      "source": [
        "This example combines filter with a custom function and checks age and city simultaneously.\n"
      ],
      "metadata": {
        "id": "AEsTpU7MJwKg"
      }
    },
    {
      "cell_type": "markdown",
      "source": [
        "#### Combining with other Lambda Functions"
      ],
      "metadata": {
        "id": "vnQPO2FGR6ag"
      }
    },
    {
      "cell_type": "code",
      "source": [
        "data = [x for x in range(1, 20)]\n",
        "\n",
        "# Filter even numbers and square themusing nested lambda\n",
        "filtered_squared = filter(\n",
        "    lambda x: x % 2 == 0, map(lambda x: x * x, data)\n",
        ")\n",
        "\n",
        "print(list(filtered_squared))"
      ],
      "metadata": {
        "colab": {
          "base_uri": "https://localhost:8080/"
        },
        "id": "HCJZIiV4JvvI",
        "outputId": "7eab1837-8248-4b3e-d378-8b5c30a8e751"
      },
      "execution_count": null,
      "outputs": [
        {
          "output_type": "stream",
          "name": "stdout",
          "text": [
            "[4, 16, 36, 64, 100, 144, 196, 256, 324]\n"
          ]
        }
      ]
    },
    {
      "cell_type": "markdown",
      "source": [
        "This example applies filter on the result of another lambda function (map for squaring), demonstrating chained operations.\n"
      ],
      "metadata": {
        "id": "ZcUQVrPRTFv_"
      }
    },
    {
      "cell_type": "markdown",
      "source": [
        "#### Dynamic Predictive Generation"
      ],
      "metadata": {
        "id": "hCeqDNdLTGxf"
      }
    },
    {
      "cell_type": "code",
      "source": [
        "def create_age_filter(min_age):\n",
        "  return lambda data: data[\"age\"] >= min_age\n",
        "\n",
        "data = [\n",
        "    {\"name\": \"Alice\", \"age\": 30, \"city\": \"New York\"},\n",
        "    {\"name\": \"Bob\", \"age\": 25, \"city\": \"London\"},\n",
        "    {\"name\": \"Charlie\", \"age\": 35, \"city\": \"Paris\"},\n",
        "    {\"name\": \"David\", \"age\": 17, \"city\": \"Berlin\"},\n",
        "]\n",
        "\n",
        "# Filter adults and youth basedon dynamic age ranges()\n",
        "adults = filter(create_age_filter(18), data)\n",
        "youth = filter(create_age_filter(13), data)\n",
        "\n",
        "# Print names of each\n",
        "print(list(map(lambda user: user[\"name\"], adults)))\n",
        "print(list(map(lambda user: user[\"name\"], youth)))\n"
      ],
      "metadata": {
        "colab": {
          "base_uri": "https://localhost:8080/"
        },
        "id": "uAJt2UolTa8f",
        "outputId": "54d577ce-f11d-46cd-a20d-dc48b1c7d87d"
      },
      "execution_count": null,
      "outputs": [
        {
          "output_type": "stream",
          "name": "stdout",
          "text": [
            "['Alice', 'Bob', 'Charlie']\n",
            "['Alice', 'Bob', 'Charlie', 'David']\n"
          ]
        }
      ]
    },
    {
      "cell_type": "markdown",
      "source": [
        "This example showcases generating custom filtering logic based on external input (min_age here).\n"
      ],
      "metadata": {
        "id": "DuBEPzJ9VMDX"
      }
    },
    {
      "cell_type": "markdown",
      "source": [
        "#### Custom Object Filtering"
      ],
      "metadata": {
        "id": "Xb_rJ89YJgtH"
      }
    },
    {
      "cell_type": "code",
      "source": [
        "class Product:\n",
        "    def __init__(self, name, price, category):\n",
        "        self.name = name\n",
        "        self.price = price\n",
        "        self.category = category\n",
        "\n",
        "products = [\n",
        "    Product(\"Shirt\", 20, \"Clothing\"),\n",
        "    Product(\"Pants\", 30, \"Clothing\"),\n",
        "    Product(\"Laptop\", 800, \"Electronics\"),\n",
        "    Product(\"Headphones\", 150, \"Electronics\"),\n",
        "]\n",
        "\n",
        "# Filter electronics with price below 200\n",
        "filtered_electronics = filter(\n",
        "    lambda product: product.category == \"Electronics\" and product.price < 200, products\n",
        ")\n",
        "\n",
        "# Print product names\n",
        "print(list(map(lambda product: product.name, filtered_electronics)))  # Output: ['Headphones']\n"
      ],
      "metadata": {
        "colab": {
          "base_uri": "https://localhost:8080/"
        },
        "id": "ZcbYhk_2Jv0t",
        "outputId": "12b63f2a-efe6-4237-8dfa-adfe9f79ff00"
      },
      "execution_count": null,
      "outputs": [
        {
          "output_type": "stream",
          "name": "stdout",
          "text": [
            "['Headphones']\n"
          ]
        }
      ]
    },
    {
      "cell_type": "markdown",
      "source": [
        "This example demonstrates filtering custom objects based on their attributes."
      ],
      "metadata": {
        "id": "7fLQd5y4MmwK"
      }
    },
    {
      "cell_type": "markdown",
      "source": [
        "#### Integration With External Data"
      ],
      "metadata": {
        "id": "uwFB8i-PMpff"
      }
    },
    {
      "cell_type": "code",
      "source": [
        "import requests\n",
        "\n",
        "def filter_users_by_location(city):\n",
        "  response = requests.get(f\"https://jsonplaceholder.typicode.com/users?{city}\")\n",
        "  data = response.json()\n",
        "  users = data[1:50]\n",
        "  # print(users[0][\"address\"][\"city\"])\n",
        "  return filter(lambda user: user if user[\"address\"][\"city\"] == city else None, users)\n",
        "\n",
        "# Filter users from a specific city using an API call\n",
        "filtered_users = filter_users_by_location(\"Wisokyburgh\")\n",
        "# print(list(filtered_users))\n",
        "# Print usernames of filtered data\n",
        "usernames = list(map(lambda user: user, filtered_users))\n",
        "print(usernames)\n"
      ],
      "metadata": {
        "colab": {
          "base_uri": "https://localhost:8080/"
        },
        "id": "w9jQI4srNlEz",
        "outputId": "f08b63ec-4d26-46e1-8826-ad3779d30c3a"
      },
      "execution_count": null,
      "outputs": [
        {
          "output_type": "stream",
          "name": "stdout",
          "text": [
            "[{'id': 2, 'name': 'Ervin Howell', 'username': 'Antonette', 'email': 'Shanna@melissa.tv', 'address': {'street': 'Victor Plains', 'suite': 'Suite 879', 'city': 'Wisokyburgh', 'zipcode': '90566-7771', 'geo': {'lat': '-43.9509', 'lng': '-34.4618'}}, 'phone': '010-692-6593 x09125', 'website': 'anastasia.net', 'company': {'name': 'Deckow-Crist', 'catchPhrase': 'Proactive didactic contingency', 'bs': 'synergize scalable supply-chains'}}]\n"
          ]
        }
      ]
    },
    {
      "cell_type": "markdown",
      "source": [
        "This example combines filter with data retrieved from an external API, showcasing real-world application.\n",
        "\n",
        "Remember, while filter offers powerful filtering capabilities, overly complex logic within it can affect readability. Use it judiciously for well-defined filtering criteria and consider alternative approaches for intricate processing."
      ],
      "metadata": {
        "id": "Eb96sI3PUUjq"
      }
    },
    {
      "cell_type": "markdown",
      "source": [
        "### Reduce"
      ],
      "metadata": {
        "id": "XwxxgbgyUfn3"
      }
    },
    {
      "cell_type": "markdown",
      "source": [
        "The `reduce()` function reduces a sequence to a single value by applying a given function cumulatively to the items, from left to right. The `reduce()` function is available in the `functools` module.\n"
      ],
      "metadata": {
        "id": "SDn7c48mMunh"
      }
    },
    {
      "cell_type": "code",
      "source": [
        "from functools import reduce\n",
        "\n",
        "numbers = [x for x in range(1,10)]\n",
        "\n",
        "product = reduce(lambda x, y: x * y, numbers)\n",
        "print(product)"
      ],
      "metadata": {
        "colab": {
          "base_uri": "https://localhost:8080/"
        },
        "id": "5m8mNPzzVFV4",
        "outputId": "4798eff0-13bd-4134-e686-26140dd82764"
      },
      "execution_count": null,
      "outputs": [
        {
          "output_type": "stream",
          "name": "stdout",
          "text": [
            "362880\n"
          ]
        }
      ]
    },
    {
      "cell_type": "markdown",
      "source": [
        "#### Custom Aggregation For Multiple Initial Values"
      ],
      "metadata": {
        "id": "kDLoISdmWJEM"
      }
    },
    {
      "cell_type": "code",
      "source": [
        "data = [\n",
        "    {\"age\": 25, \"salary\": 80000},\n",
        "    {\"age\": 30, \"salary\": 75000},\n",
        "    {\"age\": 28, \"salary\": 90000}\n",
        "    ]\n",
        "def accumulate_stats(stats, person):\n",
        "  stats[\"total_age\"] += person[\"age\"]\n",
        "  stats[\"total_salary\"] += person[\"salary\"]\n",
        "  stats[\"count\"] += 1\n",
        "  return stats\n",
        "\n",
        "initial_stats = {\"total_age\": 0, \"total_salary\": 0, \"count\": 0}\n",
        "aggregated_stats = reduce(accumulate_stats, data, initial_stats)\n",
        "\n",
        "print(aggregated_stats)"
      ],
      "metadata": {
        "colab": {
          "base_uri": "https://localhost:8080/"
        },
        "id": "Eechjs4EWS6q",
        "outputId": "edbe1788-e8b7-4fbe-8579-19629df7d624"
      },
      "execution_count": null,
      "outputs": [
        {
          "output_type": "stream",
          "name": "stdout",
          "text": [
            "{'total_age': 83, 'total_salary': 245000, 'count': 3}\n"
          ]
        }
      ]
    },
    {
      "cell_type": "markdown",
      "source": [
        "This example uses reduce with a custom function to accumulate various statistics (total age, total salary, count) on a list of persons, demonstrating more complex accumulation than adding simple numbers.\n",
        "\n"
      ],
      "metadata": {
        "id": "pabvjG7iYJrD"
      }
    },
    {
      "cell_type": "markdown",
      "source": [
        "#### Dynamic Function Generation For Conditional Accumulation"
      ],
      "metadata": {
        "id": "bczGo60dYfys"
      }
    },
    {
      "cell_type": "code",
      "source": [
        "def create_accumulator(aggregation_type):\n",
        "  if aggregation_type == \"Max\":\n",
        "    return lambda x, y: max(x, y)\n",
        "  elif aggregation_type == \"Min\":\n",
        "    return lambda x, y: min(x, y)\n",
        "\n",
        "data = [4, 5, 2, 8, 7, 6, 9, 4]\n",
        "\n",
        "max_value = reduce(create_accumulator(\"Max\"), data)\n",
        "min_value = reduce(create_accumulator(\"Min\"), data)\n",
        "\n",
        "print(f\"Max Value: {max_value} and Min Value: {min_value}\")"
      ],
      "metadata": {
        "colab": {
          "base_uri": "https://localhost:8080/"
        },
        "id": "o7iShgEHYe2g",
        "outputId": "af580ad1-ffb1-4ca1-cc73-13b924213789"
      },
      "execution_count": null,
      "outputs": [
        {
          "output_type": "stream",
          "name": "stdout",
          "text": [
            "Max Value: 9 and Min Value: 2\n"
          ]
        }
      ]
    },
    {
      "cell_type": "markdown",
      "source": [
        "This example showcases generating custom accumulation functions based on input (aggregation type) using reduce, enabling flexible data processing on different criteria."
      ],
      "metadata": {
        "id": "H4aFhdOuZ89q"
      }
    },
    {
      "cell_type": "markdown",
      "source": [
        "#### Nested Reduction For Hierarchical Data"
      ],
      "metadata": {
        "id": "AlEBKtHGaAMx"
      }
    },
    {
      "cell_type": "code",
      "source": [
        "data = [\n",
        "    {\"name\": \"Alice\", \"grades\": [85, 90, 78]},\n",
        "    {\"name\": \"Bob\", \"grades\": [92, 88, 95]},\n",
        "    {\"name\": \"Charlie\", \"grades\": [75, 82, 87]},\n",
        "]\n",
        "\n",
        "def calculate_class_average(student):\n",
        "  average_grades = reduce(lambda acc, grade: acc + grade, student[\"grades\"], 0) / len(student[\"grades\"])\n",
        "  return {\"name\": student[\"name\"], \"average_grade\": average_grades}\n",
        "\n",
        "class_average = list(map(calculate_class_average, data))\n",
        "overall_average = reduce(lambda acc, student: acc + student[\"average_grade\"], class_average, 0) / len(class_average)\n",
        "\n",
        "print(class_average)\n",
        "print(overall_average)"
      ],
      "metadata": {
        "colab": {
          "base_uri": "https://localhost:8080/"
        },
        "id": "xHQBi3A4aeSX",
        "outputId": "d70fe25b-5a2c-42b1-adf6-0400790be913"
      },
      "execution_count": null,
      "outputs": [
        {
          "output_type": "stream",
          "name": "stdout",
          "text": [
            "[{'name': 'Alice', 'average_grade': 84.33333333333333}, {'name': 'Bob', 'average_grade': 91.66666666666667}, {'name': 'Charlie', 'average_grade': 81.33333333333333}]\n",
            "85.77777777777777\n"
          ]
        }
      ]
    },
    {
      "cell_type": "markdown",
      "source": [
        "This example demonstrates using nested reduce to calculate average grades for individual students (inner reduction) and then calculate the overall class average (outer reduction), showing its application with hierarchical data."
      ],
      "metadata": {
        "id": "ADwssCile5J6"
      }
    },
    {
      "cell_type": "markdown",
      "source": [
        "#### Intergation With External Libraries"
      ],
      "metadata": {
        "id": "xbp5A3HPfZiI"
      }
    },
    {
      "cell_type": "code",
      "source": [
        "import math\n",
        "\n",
        "data = [ x for x in range(5, 50, 5)]\n",
        "\n",
        "def squared_sum(x, y):\n",
        "  return x + math.pow(y, 2)\n",
        "\n",
        "squared_sum_of_data = reduce(squared_sum, data, 0)\n",
        "\n",
        "print(squared_sum_of_data)"
      ],
      "metadata": {
        "colab": {
          "base_uri": "https://localhost:8080/"
        },
        "id": "8wL0nagYfgN6",
        "outputId": "88eb62b7-7818-4222-81e3-2d64b2368439"
      },
      "execution_count": null,
      "outputs": [
        {
          "output_type": "stream",
          "name": "stdout",
          "text": [
            "7125.0\n"
          ]
        }
      ]
    },
    {
      "cell_type": "markdown",
      "source": [
        "This example combines reduce with the math library to perform more complex calculations (squaring a number) within the accumulation process, showcasing its power with external libraries.\n",
        "\n"
      ],
      "metadata": {
        "id": "6EOkhyghgdcB"
      }
    },
    {
      "cell_type": "markdown",
      "source": [
        "#### Data Cleaning and Feature Engineering"
      ],
      "metadata": {
        "id": "EmHx940fgn1G"
      }
    },
    {
      "cell_type": "code",
      "source": [
        "text_data = [\"  apple, banana ! \", \" orange ,   pear ?   \"]\n",
        "\n",
        "def clean_and_tokenize(tokens, text):\n",
        "    cleaned_text = text.lower().strip().replace(\",\", \"\").replace(\"!\", \"\").replace(\"?\", \"\").split()\n",
        "    tokens.extend(cleaned_text)\n",
        "    return tokens\n",
        "\n",
        "tokens = []\n",
        "cleaned_tokens = reduce(clean_and_tokenize, text_data, tokens)\n",
        "\n",
        "print(cleaned_tokens)  # Output: ['apple', 'banana', 'orange', 'pear']\n"
      ],
      "metadata": {
        "colab": {
          "base_uri": "https://localhost:8080/"
        },
        "id": "kA9uq79mhA6y",
        "outputId": "08772284-fa2f-4e7a-9218-b54fcf241ee8"
      },
      "execution_count": null,
      "outputs": [
        {
          "output_type": "stream",
          "name": "stdout",
          "text": [
            "['apple', 'banana', 'orange', 'pear']\n"
          ]
        }
      ]
    },
    {
      "cell_type": "markdown",
      "source": [
        "This example uses reduce with a custom function to clean and tokenize text data, demonstrating its application in data preprocessing tasks.\n",
        "\n",
        "Remember that while reduce offers concise data reduction"
      ],
      "metadata": {
        "id": "_4c2KO1Uhccs"
      }
    },
    {
      "cell_type": "markdown",
      "source": [
        "## Decorators"
      ],
      "metadata": {
        "id": "Q0TaQQWRkMy6"
      }
    },
    {
      "cell_type": "markdown",
      "source": [
        "Decorators are a way to modify the behavior of functions or classes. They allow you to wrap another function to extend its behavior without modifying its code.\n",
        "\n",
        "Here's an example of a simple decorator that measures the execution time of a function:"
      ],
      "metadata": {
        "id": "S5nd7R-jkiJ9"
      }
    },
    {
      "cell_type": "code",
      "source": [
        "import time\n",
        "\n",
        "def timing_decorator(func):\n",
        "  def wrapper(*args, **kwargs):\n",
        "    start_time = time.time()\n",
        "    result = func(*args, **kwargs)\n",
        "    end_time = time.time()\n",
        "    print(f\"{func.__name__} took {end_time - start_time: .5f} second to execute\")\n",
        "    return result\n",
        "\n",
        "  return wrapper\n",
        "\n",
        "@timing_decorator\n",
        "def slow_function():\n",
        "  time.sleep(2)\n",
        "\n",
        "slow_function()"
      ],
      "metadata": {
        "colab": {
          "base_uri": "https://localhost:8080/"
        },
        "id": "C8XpBQ1jk1kp",
        "outputId": "0e7a47c4-7ae1-4225-d4de-02ba655da00f"
      },
      "execution_count": null,
      "outputs": [
        {
          "output_type": "stream",
          "name": "stdout",
          "text": [
            "slow_function took  2.00197 second to execute\n"
          ]
        }
      ]
    },
    {
      "cell_type": "markdown",
      "source": [
        "The provided code implements a decorator function called timing_decorator, which measures the execution time of a decorated function by recording the start time before its execution and the end time afterward using the time.time() function. This decorator returns a wrapper function that calculates the time taken for the decorated function's execution, prints the execution time with five decimal places, and then returns the result of the decorated function. Finally, the @timing_decorator decorator is applied to the slow_function, causing it to be wrapped by the timing_decorator function. When slow_function is invoked, the execution time is measured, printed, and displayed with precision."
      ],
      "metadata": {
        "id": "OdPHBL62mRQV"
      }
    },
    {
      "cell_type": "markdown",
      "source": [
        "#### Conditional Decoration Based On Arguments"
      ],
      "metadata": {
        "id": "UQorsL02no9U"
      }
    },
    {
      "cell_type": "code",
      "source": [
        "def log_on_error(func):\n",
        "  def wrapper(*args, **kwargs):\n",
        "    try:\n",
        "      return func(*args, **kwargs)\n",
        "    except Exception as e:\n",
        "      print(f\"Error in {func.__name__}: {e}\")\n",
        "      return None\n",
        "\n",
        "  return wrapper\n",
        "\n",
        "@log_on_error\n",
        "def divide(a, b):\n",
        "  return a / b\n",
        "\n",
        "# Only Log Errors when dividing by zero\n",
        "result = divide(10, 2)\n",
        "result = divide(10, 0)"
      ],
      "metadata": {
        "colab": {
          "base_uri": "https://localhost:8080/"
        },
        "id": "aY9qHarBnzqa",
        "outputId": "8f2468f3-0435-477b-a28d-2d5a48458948"
      },
      "execution_count": null,
      "outputs": [
        {
          "output_type": "stream",
          "name": "stdout",
          "text": [
            "Error in divide: division by zero\n"
          ]
        }
      ]
    },
    {
      "cell_type": "markdown",
      "source": [
        "This example shows a decorator that logs errors only if an exception occurs within the decorated function. It leverages try-except and adapts logging behavior based on arguments (division by zero in this case)."
      ],
      "metadata": {
        "id": "R69Ij5fCr2aC"
      }
    },
    {
      "cell_type": "markdown",
      "source": [
        "#### Parameters Validation and Modification"
      ],
      "metadata": {
        "id": "GSz-Wpz9sJTt"
      }
    },
    {
      "cell_type": "code",
      "source": [
        "def ensure_positive(func):\n",
        "  def wrapper(*args, **kwargs):\n",
        "    for arg in args:\n",
        "      if arg < 0:\n",
        "        # raise ValueError(\"Negative Value Not Allowed\")\n",
        "        print(\"Negative Value Not Allowed\")\n",
        "\n",
        "    return func(*args, **kwargs)\n",
        "\n",
        "  return wrapper\n",
        "\n",
        "@ensure_positive\n",
        "def calculate_area(length, width):\n",
        "  return length * width\n",
        "\n",
        "# Raise error for negative arguments\n",
        "print(calculate_area(-2, 5))\n"
      ],
      "metadata": {
        "colab": {
          "base_uri": "https://localhost:8080/"
        },
        "id": "qRwQYl0Vr_XN",
        "outputId": "3629b787-eb66-4541-b017-18aafa3caab4"
      },
      "execution_count": null,
      "outputs": [
        {
          "output_type": "stream",
          "name": "stdout",
          "text": [
            "Negative Value Not Allowed\n",
            "-10\n"
          ]
        }
      ]
    },
    {
      "cell_type": "markdown",
      "source": [
        "This example demonstrates a decorator that validates function arguments and raises specific exceptions if they don't meet the criteria (positive values in this case). It modifies function behavior for argument handling.\n",
        "\n"
      ],
      "metadata": {
        "id": "32TlH-Xhw2rK"
      }
    },
    {
      "cell_type": "markdown",
      "source": [
        "#### Caching Function Results"
      ],
      "metadata": {
        "id": "-g3CiPNuxx6h"
      }
    },
    {
      "cell_type": "code",
      "source": [
        "def cache_result(func):\n",
        "  cache = {}\n",
        "\n",
        "  def wrapper(*args, **kwargs):\n",
        "    key = (args, tuple(kwargs.items()))\n",
        "    if key in cache:\n",
        "      return cache[key]\n",
        "    else:\n",
        "      result = func(*args, **kwargs)\n",
        "      cache[key] = result\n",
        "      return result\n",
        "\n",
        "  return wrapper\n",
        "\n",
        "@cache_result\n",
        "def febonacci(n):\n",
        "  if n <= 1:\n",
        "    return 1\n",
        "  else:\n",
        "    return febonacci(n - 1) + febonacci(n - 2)\n",
        "\n",
        "# Cache results from previously calculated Fibonacci Results\n",
        "print(febonacci(50)) # Caculate and Cache\n",
        "print(febonacci(50)) # Retrivel From Cache Faster\n",
        "\n"
      ],
      "metadata": {
        "colab": {
          "base_uri": "https://localhost:8080/"
        },
        "id": "pz9nMtJpyMZT",
        "outputId": "8105464e-df8e-428d-9cc9-00bc1ef8215e"
      },
      "execution_count": null,
      "outputs": [
        {
          "output_type": "stream",
          "name": "stdout",
          "text": [
            "20365011074\n",
            "20365011074\n"
          ]
        }
      ]
    },
    {
      "cell_type": "markdown",
      "source": [
        "This example showcases a decorator that caches function results based on unique arguments, providing performance improvements for subsequent calls with the same inputs. It stores and reuses calculated values.\n",
        "\n"
      ],
      "metadata": {
        "id": "hx6AW-cIyGDR"
      }
    },
    {
      "cell_type": "markdown",
      "source": [
        "#### Decorating Class Methods"
      ],
      "metadata": {
        "id": "mmv0ZRj409Vg"
      }
    },
    {
      "cell_type": "code",
      "source": [
        "import time\n",
        "\n",
        "def class_timer(cls):\n",
        "    for name, method in cls.__dict__.items():\n",
        "        if callable(method):\n",
        "            setattr(cls, name, timer(method))\n",
        "    return cls\n",
        "\n",
        "def timer(func):\n",
        "    def wrapper(*args, **kwargs):\n",
        "        start_time = time.time()\n",
        "        result = func(*args, **kwargs)\n",
        "        end_time = time.time()\n",
        "        print(f\"{func.__name__} took {end_time - start_time:.5f} seconds to execute\")\n",
        "        return result\n",
        "    return wrapper\n",
        "\n",
        "@class_timer\n",
        "class HelloClass:\n",
        "    def __init__(self, name):\n",
        "        self.name = name\n",
        "\n",
        "    def print_hello(self):\n",
        "        time.sleep(1)\n",
        "        print(f\"Hello From {self.name}\")\n",
        "\n",
        "# All methods in HelloClass will be timed\n",
        "obj = HelloClass(\"Alice\")\n",
        "obj.print_hello()\n"
      ],
      "metadata": {
        "colab": {
          "base_uri": "https://localhost:8080/"
        },
        "id": "3MjW_xMS1r1x",
        "outputId": "3763c5bc-6435-4a5d-ce5d-35829d0ef9a9"
      },
      "execution_count": null,
      "outputs": [
        {
          "output_type": "stream",
          "name": "stdout",
          "text": [
            "__init__ took 0.00000 seconds to execute\n",
            "Hello From Alice\n",
            "print_hello took 1.00123 seconds to execute\n"
          ]
        }
      ]
    },
    {
      "cell_type": "markdown",
      "source": [
        "This example demonstrates decorating all methods within a class to measure their execution time. It iterates through class attributes and applies the timer decorator to functions for timing purposes.\n",
        "\n"
      ],
      "metadata": {
        "id": "nhuLuGwa7tcV"
      }
    },
    {
      "cell_type": "markdown",
      "source": [
        "#### Customizing Metaclasses"
      ],
      "metadata": {
        "id": "Lm9VGKxb8BOR"
      }
    },
    {
      "cell_type": "code",
      "source": [
        "import six\n",
        "\n",
        "class SingletonMeta(type):\n",
        "    _instances = {}\n",
        "\n",
        "    def __call__(cls, *args, **kwargs):\n",
        "        if cls not in cls._instances:\n",
        "            instance = super().__call__(*args, **kwargs)\n",
        "            cls._instances[cls] = instance\n",
        "        return cls._instances[cls]\n",
        "\n",
        "@six.add_metaclass(SingletonMeta)\n",
        "class MySingleton:\n",
        "    def __init__(self, name):\n",
        "        self.name = name\n",
        "\n",
        "# Ensures only one instance of MySingleton exists\n",
        "obj1 = MySingleton(\"Alice\")\n",
        "obj2 = MySingleton(\"Bob\")\n",
        "\n",
        "print(obj1 is obj2)  # Output: True\n"
      ],
      "metadata": {
        "colab": {
          "base_uri": "https://localhost:8080/"
        },
        "id": "OdbZchst8GUe",
        "outputId": "bfae16c7-6391-4977-f2d0-c947f4d822a5"
      },
      "execution_count": null,
      "outputs": [
        {
          "output_type": "stream",
          "name": "stdout",
          "text": [
            "True\n"
          ]
        }
      ]
    },
    {
      "cell_type": "markdown",
      "source": [
        "**SingletonMeta Metaclass:**\n",
        "Inside` __call__`, it checks whether the class (cls) already exists in the _instances dictionary. If not, it creates a new instance of the class using `super().__call__(*args, **kwargs)` and stores it in the _instances dictionary.\n",
        "\n",
        "It then returns the instance stored in the _instances dictionary.\n",
        "\n",
        "**MySingleton Class:**\n",
        "MySingleton is a class that is intended to be a singleton, meaning only one instance of this class should exist throughout the program.\n",
        "It defines an` __init__` method to initialize an instance of the class with a name attribute.\n",
        "\n",
        "**Usage**:\n",
        "The `@six.add_metaclass(SingletonMeta)` decorator applies the SingletonMeta metaclass to the MySingleton class. This ensures that the behavior defined in SingletonMeta is applied to instances of MySingleton.\n",
        "\n",
        "Two instances of MySingleton, obj1 and obj2, are created with different names (\"Alice\" and \"Bob\" respectively).\n",
        "\n",
        "The `print(obj1 is obj2)` statement checks if obj1 and obj2 refer to the same instance of the MySingleton class. Since the Singleton pattern ensures that only one instance exists, the output is True, indicating that obj1 and obj2 are indeed the same instance.\n",
        "\n",
        "In summary, the provided code implements the Singleton design pattern using a metaclass, ensuring that only one instance of the MySingleton class exists throughout the program. This is achieved by overriding the __call__ method in the SingletonMeta metaclass to control the instantiation of the class."
      ],
      "metadata": {
        "id": "1VvbVoAE-Ep1"
      }
    },
    {
      "cell_type": "markdown",
      "source": [
        "Remember that while decorators offer powerful functionality, consider using them judiciously for modularity and avoid overly complex logic within them.\n",
        "\n"
      ],
      "metadata": {
        "id": "oQz0LKlgCwL1"
      }
    },
    {
      "cell_type": "markdown",
      "source": [
        "## Context Manager"
      ],
      "metadata": {
        "id": "La7yEaKmAsZI"
      }
    },
    {
      "cell_type": "markdown",
      "source": [
        "Context managers are used to manage resources, such as file handles or network connections, that need to be acquired and released. They are typically used with the `with` statement to ensure that the resources are properly acquired and released.\n",
        "\n",
        "Here's an example of a context manager for working with files:"
      ],
      "metadata": {
        "id": "MEIICAuZAyLK"
      }
    },
    {
      "cell_type": "code",
      "source": [
        "with open(\"file.txt\", \"r\") as file:\n",
        "  content = file.read()\n"
      ],
      "metadata": {
        "id": "nT1w10JlBJHw"
      },
      "execution_count": null,
      "outputs": []
    },
    {
      "cell_type": "markdown",
      "source": [
        "In this example, the `open()` function returns a file object, which is a context manager. When the with block is exited, the file is automatically closed.\n",
        "\n",
        "You can create your own context managers using the contextlib module:"
      ],
      "metadata": {
        "id": "3QkmN419DMMb"
      }
    },
    {
      "cell_type": "code",
      "source": [
        "from contextlib import contextmanager\n",
        "\n",
        "@contextmanager\n",
        "def my_context():\n",
        "  print(\"Entering the Context\")\n",
        "  yield\n",
        "  print(\"Exiting the Context\")\n",
        "\n",
        "with my_context():\n",
        "  print(\"Inside the Context\")"
      ],
      "metadata": {
        "id": "FZCDfh8NDZI3",
        "outputId": "90e997fe-f72f-460f-fcc1-04a75d09ae57",
        "colab": {
          "base_uri": "https://localhost:8080/"
        }
      },
      "execution_count": null,
      "outputs": [
        {
          "output_type": "stream",
          "name": "stdout",
          "text": [
            "Entering the Context\n",
            "Inside the Context\n",
            "Exiting the Context\n"
          ]
        }
      ]
    },
    {
      "cell_type": "markdown",
      "source": [
        "#### Logging And Profiling\n"
      ],
      "metadata": {
        "id": "l2tCzn2G3I-7"
      }
    },
    {
      "cell_type": "code",
      "source": [
        "import time\n",
        "\n",
        "class Logger:\n",
        "  def __enter__(self):\n",
        "    self.start_time = time.time()\n",
        "\n",
        "  def __exit__(self, exe_type, exc_val, exc_tb):\n",
        "    end_time = time.time()\n",
        "    print(f\"Function exection time: { end_time - self.start_time: .4f} seconds\")\n",
        "\n",
        "\n",
        "with Logger():\n",
        "  for x in range(1,100000):\n",
        "    x = x + 2\n",
        "\n",
        "  time.sleep(1.5)\n",
        "\n",
        "  print(x)"
      ],
      "metadata": {
        "id": "J9Xdvct63dux",
        "outputId": "9a25164c-7987-425f-f7cd-26d81be2b6ac",
        "colab": {
          "base_uri": "https://localhost:8080/"
        }
      },
      "execution_count": 1,
      "outputs": [
        {
          "output_type": "stream",
          "name": "stdout",
          "text": [
            "100001\n",
            "Function exection time:  1.5133 seconds\n"
          ]
        }
      ]
    },
    {
      "cell_type": "markdown",
      "source": [
        "This example automatically logs the execution time of any code block wrapped within the with statement using the Logger context manager. The __enter__ method records the start time, and __exit__ calculates and prints the elapsed time.\n"
      ],
      "metadata": {
        "id": "yGa91XrW5SCH"
      }
    },
    {
      "cell_type": "markdown",
      "source": [
        "#### Conditional Resource Acquisition"
      ],
      "metadata": {
        "id": "-sSQ63Vf5TZX"
      }
    },
    {
      "cell_type": "code",
      "source": [
        "import random\n",
        "\n",
        "class Resource:\n",
        "  def __enter__(self):\n",
        "    if random.random() < 0.5:\n",
        "      print(\"acquiring Resources...\")\n",
        "      return True\n",
        "    else:\n",
        "      print(\"Failed to acquire resource.\")\n",
        "      return False\n",
        "  def __exit__(self, exc_type, exc_val, exc_tb):\n",
        "    if exc_type is None:\n",
        "      print(\"Releasing resource...\")\n",
        "    else:\n",
        "      print(\"Error Occured:\", exc_val)\n",
        "\n",
        "\n",
        "with Resource() as aquired:\n",
        "  if aquired:\n",
        "    print(\"Resoyrce aquired sucessfully...\")\n",
        "  else:\n",
        "    print(\"System busy!\")\n",
        "    print(\"Resources are not availble..\")\n"
      ],
      "metadata": {
        "id": "HfwrY-ZO5BAN",
        "outputId": "d114f0f0-4651-4101-a4bf-ea5182f0fa0b",
        "colab": {
          "base_uri": "https://localhost:8080/"
        }
      },
      "execution_count": 4,
      "outputs": [
        {
          "output_type": "stream",
          "name": "stdout",
          "text": [
            "Failed to acquire resource.\n",
            "System busy!\n",
            "Resources are not availble..\n",
            "Releasing resource...\n"
          ]
        }
      ]
    },
    {
      "cell_type": "markdown",
      "source": [
        "\n",
        "This context manager simulates resource acquisition with a random chance of success. The __enter__ method attempts to acquire the resource and returns True if successful. The __exit__ method checks if the resource was acquired (acquired) and no exception occurred (exc_type is None) before releasing it.\n",
        "\n"
      ],
      "metadata": {
        "id": "05S8plWq8XWy"
      }
    },
    {
      "cell_type": "markdown",
      "source": [],
      "metadata": {
        "id": "HKtQSfwF8YmU"
      }
    }
  ]
}