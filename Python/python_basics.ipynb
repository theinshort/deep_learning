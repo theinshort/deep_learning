{
  "nbformat": 4,
  "nbformat_minor": 0,
  "metadata": {
    "colab": {
      "provenance": [],
      "toc_visible": true,
      "authorship_tag": "ABX9TyOg5TtlZwEbXazE/fp8RTPP",
      "include_colab_link": true
    },
    "kernelspec": {
      "name": "python3",
      "display_name": "Python 3"
    },
    "language_info": {
      "name": "python"
    }
  },
  "cells": [
    {
      "cell_type": "markdown",
      "metadata": {
        "id": "view-in-github",
        "colab_type": "text"
      },
      "source": [
        "<a href=\"https://colab.research.google.com/github/theinshort/deep_learning/blob/main/Python/python_basics.ipynb\" target=\"_parent\"><img src=\"https://colab.research.google.com/assets/colab-badge.svg\" alt=\"Open In Colab\"/></a>"
      ]
    },
    {
      "cell_type": "markdown",
      "source": [
        "# Python For Deep Learning\n",
        "In this tutorials we will be exploring some advance pythons concepts and techniques for deep learning implementations.\n",
        "## Table of Contents\n",
        "\n",
        "### Section 1: Advanced Python Techniques\n",
        "1. List Comprehensions\n",
        "2. Lambda Functions\n",
        "3. Map, Filter, and Reduce Functions\n",
        "4. Decorators\n",
        "5. Context Managers\n",
        "6. Generators\n",
        "7. Multithreading and Multiprocessing\n",
        "8. Working with Files (Reading and Writing)\n",
        "9. Regular Expressions\n",
        "10. Error Handling and Exceptions\n",
        "\n",
        "### Section 2: Classes\n",
        "11. Classes and Objects\n",
        "12. Inheritance\n",
        "13. Property Decorators\n",
        "14. Python's Data Model & Magic Methods"
      ],
      "metadata": {
        "id": "g6ZufRp57Iw8"
      }
    },
    {
      "cell_type": "markdown",
      "source": [
        "## 1. List Comprehensions\n",
        "\n",
        "List comprehensions provide a concise way to create lists. It consists of an expression followed by a `for` statement inside square brackets. Here's an example:"
      ],
      "metadata": {
        "id": "P8nCT8Sh_LUQ"
      }
    },
    {
      "cell_type": "code",
      "source": [
        "square = [x * x for x in range(12)]\n",
        "square"
      ],
      "metadata": {
        "colab": {
          "base_uri": "https://localhost:8080/"
        },
        "id": "m2MayiIg-_GF",
        "outputId": "d643a6e3-1646-4a26-83b5-2240d8cc467a"
      },
      "execution_count": 2,
      "outputs": [
        {
          "output_type": "execute_result",
          "data": {
            "text/plain": [
              "[0, 1, 4, 9, 16, 25, 36, 49, 64, 81, 100, 121]"
            ]
          },
          "metadata": {},
          "execution_count": 2
        }
      ]
    },
    {
      "cell_type": "markdown",
      "source": [
        "This creates a list of squares of numbers from 0 to 9. You can also add an optional `if` clause to filter the items:\n"
      ],
      "metadata": {
        "id": "2hWXp88-_mUd"
      }
    },
    {
      "cell_type": "code",
      "source": [
        "even_sq = [x * x for x in range(12) if x % 2 == 0]\n",
        "even_sq"
      ],
      "metadata": {
        "colab": {
          "base_uri": "https://localhost:8080/"
        },
        "id": "Z79k85Bm_u-l",
        "outputId": "103a7c6e-a5ee-4618-de81-4d4128776638"
      },
      "execution_count": 3,
      "outputs": [
        {
          "output_type": "execute_result",
          "data": {
            "text/plain": [
              "[0, 4, 16, 36, 64, 100]"
            ]
          },
          "metadata": {},
          "execution_count": 3
        }
      ]
    },
    {
      "cell_type": "markdown",
      "source": [
        "This creates a list of squares of even numbers from 0 to 9.\n"
      ],
      "metadata": {
        "id": "lB0P4J76AFoW"
      }
    },
    {
      "cell_type": "markdown",
      "source": [
        "Let's use list comprehensions to create a list of cubes of even and odd numbers from 1 to 30.\n"
      ],
      "metadata": {
        "id": "4IJvNK9GAVuV"
      }
    },
    {
      "cell_type": "code",
      "source": [
        "# Cube for even numbers\n",
        "\n",
        "# range(x, y) function take values from starting values as x and one less (y-1) from final valueThe range() function returns a sequence of numbers,\n",
        "# starting from 0 by default, and increments by 1 (by default), and stops before a specified number.\n",
        "# Syntax for range function => range(start, stop, step)\n",
        "even_cube = [x*x*x for x in range(1, 31) if x % 2 == 0]\n",
        "print(even_cube)\n",
        "odd_cube = [x*x*x for x in range(1, 31) if x % 2 != 0]\n",
        "print(odd_cube)\n"
      ],
      "metadata": {
        "colab": {
          "base_uri": "https://localhost:8080/"
        },
        "id": "ACOPm_LvAQrV",
        "outputId": "ba739880-0d10-4ea6-a0ef-34febfe15493"
      },
      "execution_count": 4,
      "outputs": [
        {
          "output_type": "stream",
          "name": "stdout",
          "text": [
            "[8, 64, 216, 512, 1000, 1728, 2744, 4096, 5832, 8000, 10648, 13824, 17576, 21952, 27000]\n",
            "[1, 27, 125, 343, 729, 1331, 2197, 3375, 4913, 6859, 9261, 12167, 15625, 19683, 24389]\n"
          ]
        }
      ]
    },
    {
      "cell_type": "markdown",
      "source": [
        "## 2. Lambda Functions\n",
        "Lambda functions are small, anonymous functions that can be created with the `lambda` keyword. They are useful when you need a simple function for a short period of time and don't want to define a full function using `def`. Lambda functions can take any number of arguments but can only have one expression."
      ],
      "metadata": {
        "id": "U4w23D_XCjQ2"
      }
    },
    {
      "cell_type": "code",
      "source": [
        "multiply = lambda x, y: x*y\n",
        "print(multiply(10,3))"
      ],
      "metadata": {
        "colab": {
          "base_uri": "https://localhost:8080/"
        },
        "id": "uei-CrN-C0ZG",
        "outputId": "4e9a1bb2-1d3c-462b-c889-e1c4b2853dec"
      },
      "execution_count": 5,
      "outputs": [
        {
          "output_type": "stream",
          "name": "stdout",
          "text": [
            "30\n"
          ]
        }
      ]
    },
    {
      "cell_type": "code",
      "source": [
        "is_even_odd = lambda x: \"Even\" if x %2 == 0 else \"Odd\"\n",
        "\n",
        "print(is_even_odd(23))\n",
        "print(is_even_odd(24))"
      ],
      "metadata": {
        "colab": {
          "base_uri": "https://localhost:8080/"
        },
        "id": "SSS1QCw4DcBV",
        "outputId": "6c3e3987-b8bc-47a8-eb2a-0044af51dc92"
      },
      "execution_count": 7,
      "outputs": [
        {
          "output_type": "stream",
          "name": "stdout",
          "text": [
            "Odd\n",
            "Even\n"
          ]
        }
      ]
    },
    {
      "cell_type": "markdown",
      "source": [
        "Let's create some advance examples for lambda funtions in pythons that demonstrate their capabilities."
      ],
      "metadata": {
        "id": "Lvwuc48zFLXA"
      }
    },
    {
      "cell_type": "markdown",
      "source": [
        "### Data Cleaning and Transformation"
      ],
      "metadata": {
        "id": "u-Ysp2QHFdNk"
      }
    },
    {
      "cell_type": "code",
      "source": [
        "clean_data = lambda text: text.lower().strip().replace(',', '')\n",
        "\n",
        "data = \"HelLo worLd!, how,s are YOU doing?\"\n",
        "cleaned_data = clean_data(data)\n",
        "print(cleaned_data)"
      ],
      "metadata": {
        "colab": {
          "base_uri": "https://localhost:8080/"
        },
        "id": "hW5ebpsDFccm",
        "outputId": "340058c9-890e-49c7-8d27-99861f14df4b"
      },
      "execution_count": 9,
      "outputs": [
        {
          "output_type": "stream",
          "name": "stdout",
          "text": [
            "hello world! hows are you doing?\n"
          ]
        }
      ]
    },
    {
      "cell_type": "markdown",
      "source": [
        "This lambda function cleans text data by converting it to lowercase, removing leading/trailing whitespace, and replacing commas. It demonstrates how lambdas can be used in data pipelines for preprocessing."
      ],
      "metadata": {
        "id": "-luxgS9FGiG1"
      }
    },
    {
      "cell_type": "markdown",
      "source": [
        "### Nested Lambdas for complex Logic"
      ],
      "metadata": {
        "id": "rd3E-v5AH2s-"
      }
    },
    {
      "cell_type": "code",
      "source": [
        "calculate_shipping_cost = lambda distance, weight: \\\n",
        "  lambda discount: ((distance * 0.5) + (weight * 2) * (1 - discount/100))\n",
        "\n",
        "discount = 20\n",
        "distance, weight = 150, 5\n",
        "\n",
        "shipping_cost = calculate_shipping_cost(distance, weight)(discount)\n",
        "print(shipping_cost)"
      ],
      "metadata": {
        "colab": {
          "base_uri": "https://localhost:8080/"
        },
        "id": "c3WAAK0KFaNM",
        "outputId": "d119bf65-5734-48aa-a4a8-a85b5767ea11"
      },
      "execution_count": 14,
      "outputs": [
        {
          "output_type": "stream",
          "name": "stdout",
          "text": [
            "83.0\n"
          ]
        }
      ]
    },
    {
      "cell_type": "markdown",
      "source": [
        "This example involves nested lambdas. The outer lambda defines the shipping cost calculation based on distance and weight. The inner lambda applies a discount, demonstrating how lambdas can encapsulate sub-functionality.\n"
      ],
      "metadata": {
        "id": "SqzbDKq6LfFJ"
      }
    },
    {
      "cell_type": "markdown",
      "source": [
        "### Custom Sorting With Lambdas"
      ],
      "metadata": {
        "id": "2RfdvV_rLfEN"
      }
    },
    {
      "cell_type": "code",
      "source": [
        "data = [\n",
        "    {\"name\": \"Alice\", \"age\": 23},\n",
        "    {\"name\": \"Bob\", \"age\": 31},\n",
        "    {\"name\": \"Charlie\", \"age\": 29}\n",
        "]\n",
        "\n",
        "sort_by_age = lambda data: sorted(data, key= lambda data: data[\"age\"])\n",
        "sort_by_name = lambda data: sorted(data, key= lambda data: data[\"name\"])\n",
        "\n",
        "print(sort_by_age(data))\n",
        "print(sort_by_name(data))"
      ],
      "metadata": {
        "colab": {
          "base_uri": "https://localhost:8080/"
        },
        "id": "CHtXsXE0K7vW",
        "outputId": "1169802a-b66f-4ccf-8c86-9e6481e1ae0e"
      },
      "execution_count": 15,
      "outputs": [
        {
          "output_type": "stream",
          "name": "stdout",
          "text": [
            "[{'name': 'Alice', 'age': 23}, {'name': 'Charlie', 'age': 29}, {'name': 'Bob', 'age': 31}]\n",
            "[{'name': 'Alice', 'age': 23}, {'name': 'Bob', 'age': 31}, {'name': 'Charlie', 'age': 29}]\n"
          ]
        }
      ]
    },
    {
      "cell_type": "markdown",
      "source": [
        "This code shows how lambdas can be used for custom sorting. The lambda functions define the sorting criteria based on specific dictionary keys, allowing for flexible sorting logic.\n"
      ],
      "metadata": {
        "id": "BsuYgkdoPVXB"
      }
    },
    {
      "cell_type": "markdown",
      "source": [
        "### Dynamic function Generation"
      ],
      "metadata": {
        "id": "4i8uQAZ_P1Wm"
      }
    },
    {
      "cell_type": "code",
      "source": [
        "\n",
        "math_operation = lambda operator: lambda x, y: operator(x, y)\n",
        "\n",
        "add = math_operation(lambda a, b: a + b)\n",
        "multiply = math_operation(lambda a, b: a * b)\n",
        "\n",
        "print(add(5, 3))\n",
        "print(multiply(4, 2))"
      ],
      "metadata": {
        "colab": {
          "base_uri": "https://localhost:8080/"
        },
        "id": "siUYQQoSSwGW",
        "outputId": "d88d5cbb-853b-40fc-d2e9-cda88b561df9"
      },
      "execution_count": 17,
      "outputs": [
        {
          "output_type": "stream",
          "name": "stdout",
          "text": [
            "8\n",
            "8\n"
          ]
        }
      ]
    },
    {
      "cell_type": "markdown",
      "source": [
        "This example demonstrates how lambdas can be used to dynamically generate functions based on input. The `math_operation` lambda takes an operator and returns a new lambda that performs that operation on two numbers."
      ],
      "metadata": {
        "id": "8bJL_ngNTUsO"
      }
    },
    {
      "cell_type": "markdown",
      "source": [
        "### Integration With External APIs"
      ],
      "metadata": {
        "id": "xD3lRc1_TjxG"
      }
    },
    {
      "cell_type": "code",
      "source": [
        "import requests as req\n",
        "\n",
        "get_weather_data = lambda city: req.get(f\"https://api.openweathermap.org/data/2.5/weather?q={city}&appid=YOUR_API_KEY\").json()\n",
        "# Add your own API Key\n",
        "\n",
        "weather_data = get_weather_data(\"London\")\n",
        "\n",
        "print(weather_data[\"main\"][\"temp\"])"
      ],
      "metadata": {
        "id": "LeHoJ3x3TpQp"
      },
      "execution_count": 18,
      "outputs": []
    },
    {
      "cell_type": "markdown",
      "source": [
        "This example showcases how lambdas can be used to interact with external APIs. The get_weather_data lambda retrieves weather data for a given city using an API call.\n",
        "\n",
        "Remember that while lambdas offer conciseness, complex logic within them can become harder to read and maintain. Use them judiciously for smaller, well-defined tasks within your code."
      ],
      "metadata": {
        "id": "woU8cDseU7Nl"
      }
    },
    {
      "cell_type": "markdown",
      "source": [
        "## Map, Filter, and Reduce Functions\n",
        "`map`, `filter`, and `reduce` are higher-order functions that take a function and a sequence (e.g., list, tuple) as input and perform specific operations on them.\n"
      ],
      "metadata": {
        "id": "bZOyaBbGEi5N"
      }
    },
    {
      "cell_type": "markdown",
      "source": [
        "### Map\n",
        "\n",
        "The `map()` function applies a given function to each item of a sequence and returns an iterator."
      ],
      "metadata": {
        "id": "X4nvpqbcEzIF"
      }
    },
    {
      "cell_type": "code",
      "source": [
        "numbers = [x for x in range(20)]\n",
        "squares = map(lambda x: x*x, numbers) # This will return a Map Object\n",
        "sq_list = list(squares) # Converting Map Object To List\n",
        "print(sq_list)"
      ],
      "metadata": {
        "colab": {
          "base_uri": "https://localhost:8080/"
        },
        "id": "OKa4YawLE4ln",
        "outputId": "ebf0fba7-a17c-4c06-b079-335c8c92aac1"
      },
      "execution_count": 22,
      "outputs": [
        {
          "output_type": "stream",
          "name": "stdout",
          "text": [
            "[0, 1, 4, 9, 16, 25, 36, 49, 64, 81, 100, 121, 144, 169, 196, 225, 256, 289, 324, 361]\n"
          ]
        }
      ]
    },
    {
      "cell_type": "markdown",
      "source": [
        "#### Multiple Iterables and Custom Logic"
      ],
      "metadata": {
        "id": "BAscl3jMqmOo"
      }
    },
    {
      "cell_type": "code",
      "source": [
        "names = [\"Alice\", \"Bob\", \"Charlie\"]\n",
        "ages = [25, 29, 33]\n",
        "\n",
        "# Creating a complex object using map function\n",
        "users = map(\n",
        "    lambda name, age: {\"name\": name, \"age\": age, \"message\": f\"Hello! My name is {name} and i am {age} years old\"},\n",
        "    names,\n",
        "    ages\n",
        ")\n",
        "\n",
        "for user in users:\n",
        "  print(user)"
      ],
      "metadata": {
        "colab": {
          "base_uri": "https://localhost:8080/"
        },
        "id": "yWycDWSsqtNJ",
        "outputId": "67817248-6d5c-412f-99a9-2957b984d035"
      },
      "execution_count": 23,
      "outputs": [
        {
          "output_type": "stream",
          "name": "stdout",
          "text": [
            "{'name': 'Alice', 'age': 25, 'message': 'Hello! My name is Alice and i am 25 years old'}\n",
            "{'name': 'Bob', 'age': 29, 'message': 'Hello! My name is Bob and i am 29 years old'}\n",
            "{'name': 'Charlie', 'age': 33, 'message': 'Hello! My name is Charlie and i am 33 years old'}\n"
          ]
        }
      ]
    },
    {
      "cell_type": "markdown",
      "source": [
        "This example demonstrates using map with multiple iterbles(names,ages) and a custom lambda function to create a list of complex object Users with various attributes."
      ],
      "metadata": {
        "id": "lqFRN4ajtDof"
      }
    },
    {
      "cell_type": "markdown",
      "source": [
        "#### Conditional Operation within Lambdas"
      ],
      "metadata": {
        "id": "vr_moJjJtbHg"
      }
    },
    {
      "cell_type": "code",
      "source": [
        "data = [2, 7, -4, 5, 6, -9]\n",
        "\n",
        "# Applying different operations based on signs using a lambdas\n",
        "transformed_data = map(\n",
        "    lambda x: x * 2 if x > 0 else x ** 3, data\n",
        ")\n",
        "\n",
        "transformed_data_list = list(transformed_data)\n",
        "print(transformed_data_list)"
      ],
      "metadata": {
        "colab": {
          "base_uri": "https://localhost:8080/"
        },
        "id": "8KcNg9jUEq02",
        "outputId": "c1a32083-23f7-40ca-9ecb-201daad58820"
      },
      "execution_count": 24,
      "outputs": [
        {
          "output_type": "stream",
          "name": "stdout",
          "text": [
            "[4, 14, -64, 10, 12, -729]\n"
          ]
        }
      ]
    },
    {
      "cell_type": "markdown",
      "source": [
        "This example shows how how lambda within map can perform conditional operation on each element based on specific criteria."
      ],
      "metadata": {
        "id": "gVYMQUeMvTd_"
      }
    },
    {
      "cell_type": "markdown",
      "source": [
        "#### Nested Structure and Data Aggregation"
      ],
      "metadata": {
        "id": "mpTm2D-yvkJO"
      }
    },
    {
      "cell_type": "code",
      "source": [
        "products = [\n",
        "    {\"name\": \"Shirt\", \"price\": 29, \"quantity\": 15},\n",
        "    {\"name\": \"Pants\", \"price\": 25, \"quantity\": 25},\n",
        "    {\"name\": \"Blazzers\", \"price\": 74, \"quantity\": 20},\n",
        "    {\"name\": \"Hats\", \"price\": 15, \"quantity\": 10}\n",
        "]\n",
        "\n",
        "# Calculate total price for each products using nested lambdas\n",
        "total_price = map(\n",
        "    lambda product: product[\"price\"] * product[\"quantity\"],\n",
        "    products\n",
        ")\n",
        "\n",
        "# Calculating total Sales from all products using sum with map\n",
        "total_sales = sum(total_price)\n",
        "print(total_sales)"
      ],
      "metadata": {
        "colab": {
          "base_uri": "https://localhost:8080/"
        },
        "id": "ZMMQIN9hvrNB",
        "outputId": "193c8915-00f0-4388-d5ca-8584dc73d114"
      },
      "execution_count": 25,
      "outputs": [
        {
          "output_type": "stream",
          "name": "stdout",
          "text": [
            "2690\n"
          ]
        }
      ]
    },
    {
      "cell_type": "markdown",
      "source": [
        "This example showcases nested lambdas and combines map with sum to calculate total revenue by first getting the total price for each product (using nested lambdas) and then summing them up."
      ],
      "metadata": {
        "id": "W8rQgI59zcUf"
      }
    },
    {
      "cell_type": "markdown",
      "source": [
        "#### Intergration With External Libraries"
      ],
      "metadata": {
        "id": "GGCvE9ikzenP"
      }
    },
    {
      "cell_type": "code",
      "source": [
        "import math\n",
        "\n",
        "numbers = [2, 4, 9, 11, 23, 36]\n",
        "\n",
        "# Square roots of numbers using map and math.sqrt() function\n",
        "squared_root = map(math.sqrt, numbers)\n",
        "print(list(squared_root))"
      ],
      "metadata": {
        "colab": {
          "base_uri": "https://localhost:8080/"
        },
        "id": "69vfujovz7FX",
        "outputId": "3eeda250-123a-42ca-fa3d-e6d9c8b7cd2e"
      },
      "execution_count": 26,
      "outputs": [
        {
          "output_type": "stream",
          "name": "stdout",
          "text": [
            "[1.4142135623730951, 2.0, 3.0, 3.3166247903554, 4.795831523312719, 6.0]\n"
          ]
        }
      ]
    },
    {
      "cell_type": "markdown",
      "source": [
        "This example demonstrates using map with external libraries (like math here) to perform more complex operations on each element."
      ],
      "metadata": {
        "id": "Y3PyQV6z0ro_"
      }
    },
    {
      "cell_type": "markdown",
      "source": [
        "\n",
        "#### Data Cleaning and Preprocessing\n"
      ],
      "metadata": {
        "id": "s7kajyaz0wb2"
      }
    },
    {
      "cell_type": "code",
      "source": [
        "text_data = [\"  apple:, banaAna\", \" ORANGE: pears !  \", \"? watermelon: dates   \"]\n",
        "\n",
        "cleaned_data = map(\n",
        "    lambda text: text.lower().strip().replace(\"!\", \"\").replace(\"?\",\"\").replace(\",\", \"\"),\n",
        "    text_data\n",
        ")\n",
        "\n",
        "print(list(cleaned_data))"
      ],
      "metadata": {
        "colab": {
          "base_uri": "https://localhost:8080/"
        },
        "id": "1SUoeHNR1MlP",
        "outputId": "db257891-1c01-45e7-9b42-2814d7e71705"
      },
      "execution_count": 29,
      "outputs": [
        {
          "output_type": "stream",
          "name": "stdout",
          "text": [
            "['apple: banaana', 'orange: pears ', ' watermelon: dates']\n"
          ]
        }
      ]
    },
    {
      "cell_type": "markdown",
      "source": [
        "This example demonstrates how map and lambdas can be used for data cleaning and preprocessing tasks, such as removing punctuation, converting to lowercase, and splitting into words.\n",
        "\n",
        "**Remember** that while map offers concise iteration and transformation, complex logic within it can affect readability. Use it for well-defined, element-wise operations and consider alternative approaches for intricate processing."
      ],
      "metadata": {
        "id": "rwIQ4-Wb3zfY"
      }
    },
    {
      "cell_type": "markdown",
      "source": [
        "### Filters\n",
        "The `filter()` function filters the items of a sequence based on a function that returns a boolean value."
      ],
      "metadata": {
        "id": "jl5mk3A4DT8P"
      }
    },
    {
      "cell_type": "code",
      "source": [
        "numbers = [x for x in range(21)]\n",
        "\n",
        "even_numbers = filter(lambda x: x % 2 == 0, numbers)\n",
        "# this will return a Filter object which needs to be converted to a list\n",
        "print(list(even_numbers))\n",
        "\n",
        "odd_numbers = filter(lambda x: x % 2 != 0, numbers)\n",
        "\n",
        "print(list(odd_numbers))"
      ],
      "metadata": {
        "colab": {
          "base_uri": "https://localhost:8080/"
        },
        "id": "700wMl8m4Ev3",
        "outputId": "f2d98941-86b2-4354-a5a7-c2f740157d3c"
      },
      "execution_count": 32,
      "outputs": [
        {
          "output_type": "stream",
          "name": "stdout",
          "text": [
            "[0, 2, 4, 6, 8, 10, 12, 14, 16, 18, 20]\n",
            "[1, 3, 5, 7, 9, 11, 13, 15, 17, 19]\n"
          ]
        }
      ]
    },
    {
      "cell_type": "markdown",
      "source": [
        "#### Nested Filtering with Multiple Conditions:"
      ],
      "metadata": {
        "id": "a0Jc5AnrIdPx"
      }
    },
    {
      "cell_type": "code",
      "source": [
        "data = [\n",
        "    {\"name\": \"Alice\", \"age\": 30, \"city\": \"New York\"},\n",
        "    {\"name\": \"Bob\", \"age\": 25, \"city\": \"London\"},\n",
        "    {\"name\": \"Charlie\", \"age\": 35, \"city\": \"Paris\"},\n",
        "    {\"name\": \"David\", \"age\": 22, \"city\": \"Berlin\"},\n",
        "]\n",
        "\n",
        "# Filter adults living in Europe using a custom function and multiple condition\n",
        "filtered_data = filter(\n",
        "    lambda user: user[\"age\"] >= 18 and user[\"city\"] in [\"Paris\", \"London\"],\n",
        "    data\n",
        ")\n",
        "\n",
        "usernames = map(\n",
        "    lambda user: user[\"name\"], filtered_data\n",
        ")\n",
        "\n",
        "print(list(usernames))\n"
      ],
      "metadata": {
        "colab": {
          "base_uri": "https://localhost:8080/"
        },
        "id": "6LlChw9JIcEo",
        "outputId": "414bf620-bc52-4009-e2fe-24e0a60ff799"
      },
      "execution_count": 33,
      "outputs": [
        {
          "output_type": "stream",
          "name": "stdout",
          "text": [
            "['Bob', 'Charlie']\n"
          ]
        }
      ]
    },
    {
      "cell_type": "markdown",
      "source": [
        "This example combines filter with a custom function and checks age and city simultaneously.\n"
      ],
      "metadata": {
        "id": "AEsTpU7MJwKg"
      }
    },
    {
      "cell_type": "code",
      "source": [],
      "metadata": {
        "id": "HCJZIiV4JvvI"
      },
      "execution_count": null,
      "outputs": []
    }
  ]
}